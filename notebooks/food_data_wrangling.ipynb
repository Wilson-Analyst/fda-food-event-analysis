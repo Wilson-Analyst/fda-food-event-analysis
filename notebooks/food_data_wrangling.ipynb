{
 "cells": [
  {
   "cell_type": "code",
   "execution_count": 71,
   "id": "d2278a01-6f00-4dda-9da1-fb0bc27c043e",
   "metadata": {},
   "outputs": [
    {
     "name": "stdout",
     "output_type": "stream",
     "text": [
      "          report_number                                           outcomes  \\\n",
      "0                176698  [Hospitalization, Other Serious or Important M...   \n",
      "1                177899                                    [Other Outcome]   \n",
      "2                178670  [Other Serious or Important Medical Event, Vis...   \n",
      "3                178913                                    [Other Outcome]   \n",
      "4                179561  [Other Serious or Important Medical Event, Vis...   \n",
      "...                 ...                                                ...   \n",
      "140560  2023-CFS-008068  [Death, Other Serious or Important Medical Event]   \n",
      "140561  2023-CFS-008297  [Other Serious or Important Medical Event, Oth...   \n",
      "140562  2023-CFS-008783         [Other Serious or Important Medical Event]   \n",
      "140563  2023-CFS-007705  [Death, Other Serious or Important Medical Event]   \n",
      "140564  2023-CFS-008959         [Other Serious or Important Medical Event]   \n",
      "\n",
      "       date_created                                          reactions  \\\n",
      "0          20140520  [ABDOMINAL PAIN UPPER, HAEMATEMESIS, STOMACH D...   \n",
      "1          20140711                  [ABDOMINAL PAIN UPPER, DIARRHOEA]   \n",
      "2          20140814  [HYPERSENSITIVITY, OROPHARYNGEAL DISCOMFORT, R...   \n",
      "3          20140829         [INTERNATIONAL NORMALISED RATIO DECREASED]   \n",
      "4          20140925             [PROSTATIC SPECIFIC ANTIGEN INCREASED]   \n",
      "...             ...                                                ...   \n",
      "140560     20230616                            [Death, Ovarian cancer]   \n",
      "140561     20230808                                  [Rash, Urticaria]   \n",
      "140562     20230808  [Exposure to chemical pollution, Mesothelioma ...   \n",
      "140563     20230527  [Death, Exposure to chemical pollution, Mesoth...   \n",
      "140564     20230818   [Exposure to chemical pollution, Ovarian cancer]   \n",
      "\n",
      "       date_started                                           products  \\\n",
      "0          20140419  [{'role': 'SUSPECT', 'name_brand': 'ENDLESS YO...   \n",
      "1          20140709  [{'role': 'SUSPECT', 'name_brand': 'AQUAFINA W...   \n",
      "2              None  [{'role': 'SUSPECT', 'name_brand': 'OSTEO BI-F...   \n",
      "3          20140826  [{'role': 'SUSPECT', 'name_brand': 'DEVIL'S CL...   \n",
      "4              None  [{'role': 'SUSPECT', 'name_brand': 'NAC MARKET...   \n",
      "...             ...                                                ...   \n",
      "140560     20160601  [{'role': 'SUSPECT', 'name_brand': 'JOHNSONS P...   \n",
      "140561         None  [{'role': 'SUSPECT', 'name_brand': 'GLUCOTRUST...   \n",
      "140562     20220720  [{'role': 'SUSPECT', 'name_brand': 'JOHNSONS P...   \n",
      "140563     20170801  [{'role': 'SUSPECT', 'name_brand': 'JOHNSONS P...   \n",
      "140564     20190801  [{'role': 'SUSPECT', 'name_brand': 'JOHNSONS P...   \n",
      "\n",
      "       consumer.age consumer.age_unit consumer.gender  \n",
      "0                65           year(s)          Female  \n",
      "1                37           year(s)            Male  \n",
      "2                30           year(s)          Female  \n",
      "3                52           year(s)            Male  \n",
      "4                61           year(s)            Male  \n",
      "...             ...               ...             ...  \n",
      "140560           66           year(s)          Female  \n",
      "140561           71           year(s)            Male  \n",
      "140562          NaN               NaN          Female  \n",
      "140563           83           year(s)          Female  \n",
      "140564          NaN               NaN          Female  \n",
      "\n",
      "[140565 rows x 9 columns]\n"
     ]
    }
   ],
   "source": [
    "import json\n",
    "import pandas as pd\n",
    "\n",
    "with open(\"food-event-0001-of-0001.json\", \"r\", encoding=\"utf-8\") as file:\n",
    "    data = json.load(file)\n",
    "\n",
    "df = pd.json_normalize(data['results'])\n",
    "\n",
    "print(df)"
   ]
  },
  {
   "cell_type": "code",
   "execution_count": 37,
   "id": "6ea0bf8b-c043-482e-bcb0-a1dbda3f2a79",
   "metadata": {},
   "outputs": [
    {
     "name": "stdout",
     "output_type": "stream",
     "text": [
      "0\n"
     ]
    }
   ],
   "source": [
    "print(df['report_number'].isna().sum())"
   ]
  },
  {
   "cell_type": "code",
   "execution_count": 54,
   "id": "0dcb74a1-91b9-4bc4-8723-ee0f1b3cf194",
   "metadata": {},
   "outputs": [],
   "source": [
    "#Create a new column for date created to convert \"yyyymmdd\" into \"yyyy/mm/dd\"\n",
    "df['date_created_format'] = df['date_created'].str[:4] + '/' + df['date_created'].str[4:6] + '/' + df['date_created'].str[6:]\n",
    "# convert to datetime object\n",
    "df['date_created_format'] = pd.to_datetime(df['date_created_format'], format='%Y/%m/%d')\n",
    "\n",
    "#Create a new column for date created to convert \"yyyymmdd\" into \"yyyy/mm/dd\"\n",
    "df['date_started_format'] = df['date_started'].str[:4] + '/' + df['date_started'].str[4:6] + '/' + df['date_started'].str[6:]\n",
    "# convert to datetime object\n",
    "df['date_started_format'] = pd.to_datetime(df['date_started_format'], format='%Y/%m/%d')"
   ]
  },
  {
   "cell_type": "code",
   "execution_count": 55,
   "id": "27170c71-31c3-4d2f-b7db-6de74729b49f",
   "metadata": {},
   "outputs": [],
   "source": [
    "# delete the columns date_created and date_started\n",
    "\n",
    "df.drop('date_created', axis=1, inplace=True)\n",
    "df.drop('date_started', axis=1, inplace=True)"
   ]
  },
  {
   "cell_type": "code",
   "execution_count": 56,
   "id": "863d6321-7057-49c9-8c20-eff6853270b6",
   "metadata": {},
   "outputs": [
    {
     "data": {
      "text/plain": [
       "report_number                object\n",
       "outcomes                     object\n",
       "reactions                    object\n",
       "products                     object\n",
       "consumer_age                 object\n",
       "consumer_age_unit            object\n",
       "consumer_gender              object\n",
       "date_created         datetime64[ns]\n",
       "date_started         datetime64[ns]\n",
       "dtype: object"
      ]
     },
     "execution_count": 56,
     "metadata": {},
     "output_type": "execute_result"
    }
   ],
   "source": [
    "#rename the column for clarity and sql friendly query\n",
    "df.rename(columns={'consumer.gender': 'consumer_gender', 'consumer.age_unit': 'consumer_age_unit', \n",
    "                   'consumer.age': 'consumer_age', 'date_created_format':'date_created', \n",
    "                   'date_started_format': 'date_started'}, inplace=True)\n",
    "df.dtypes"
   ]
  },
  {
   "cell_type": "markdown",
   "id": "d7e78e07-9490-4427-a902-94f7c4fbdf67",
   "metadata": {},
   "source": [
    "We are spotting a issue due to the nested JSON data. The column products contains nested dictionnaries.\n",
    "We decided to 'flatten' this nested column and create another table so each mini-table becomes its own DataFrame."
   ]
  },
  {
   "cell_type": "code",
   "execution_count": 57,
   "id": "a80bf58f-3dec-47b8-8019-450628d5957b",
   "metadata": {},
   "outputs": [],
   "source": [
    "# We copy the two column we will need 'report_number' and 'products'\n",
    "df_products = df[['report_number', 'products']].copy()\n",
    "\n",
    "#\n",
    "df_products = df_products[df_products['products'].notna()]\n",
    "\n",
    "#explode the list of dictionaries to match the report_number\n",
    "df_products = df_products.explode('products', ignore_index=True)\n",
    "\n",
    "df_products = df_products[df_products['products'].notna()]\n",
    "\n",
    "#Flatten the dictionnaries\n",
    "products_details = pd.json_normalize(df_products['products'])\n",
    "\n",
    "#combine te flatten dictionnaries with the record_number\n",
    "products_table = pd.concat([df_products[['report_number']], products_details], axis=1)"
   ]
  },
  {
   "cell_type": "code",
   "execution_count": 42,
   "id": "25ab8f5c-9f71-43dd-8920-b2a0c8f0dfe2",
   "metadata": {},
   "outputs": [
    {
     "name": "stdout",
     "output_type": "stream",
     "text": [
      "          report_number     role  \\\n",
      "0                176698  SUSPECT   \n",
      "1                177899  SUSPECT   \n",
      "2                178670  SUSPECT   \n",
      "3                178670  SUSPECT   \n",
      "4                178670  SUSPECT   \n",
      "...                 ...      ...   \n",
      "221172  2023-CFS-008297  SUSPECT   \n",
      "221173  2023-CFS-008783  SUSPECT   \n",
      "221174  2023-CFS-007705  SUSPECT   \n",
      "221175  2023-CFS-007705  SUSPECT   \n",
      "221176  2023-CFS-008959  SUSPECT   \n",
      "\n",
      "                                               name_brand industry_code  \\\n",
      "0                        ENDLESS YOUTH VITAMIN SUPPLEMENT            54   \n",
      "1                                          AQUAFINA WATER            29   \n",
      "2       OSTEO BI-FLEX WITH 5-LOXIN ADVANCED JOINT CARE...            54   \n",
      "3       SPRING VALLEY BIOTIN 1000 MCG SOFTGELS (DIETAR...            54   \n",
      "4       SPRING VALLEY CRANBERRY FRUIT 4200MG PLUS VITA...            54   \n",
      "...                                                   ...           ...   \n",
      "221172                                         GLUCOTRUST            54   \n",
      "221173                             JOHNSONS POWDER NO UPC            53   \n",
      "221174                             JOHNSONS POWDER NO UPC            53   \n",
      "221175                            SHOWER TO SHOWER NO UPC            53   \n",
      "221176                             JOHNSONS POWDER NO UPC            53   \n",
      "\n",
      "                                 industry_name  \n",
      "0       Vit/Min/Prot/Unconv Diet(Human/Animal)  \n",
      "1                             Soft Drink/Water  \n",
      "2       Vit/Min/Prot/Unconv Diet(Human/Animal)  \n",
      "3       Vit/Min/Prot/Unconv Diet(Human/Animal)  \n",
      "4       Vit/Min/Prot/Unconv Diet(Human/Animal)  \n",
      "...                                        ...  \n",
      "221172  Vit/Min/Prot/Unconv Diet(Human/Animal)  \n",
      "221173                               Cosmetics  \n",
      "221174                               Cosmetics  \n",
      "221175                               Cosmetics  \n",
      "221176                               Cosmetics  \n",
      "\n",
      "[221177 rows x 5 columns]\n"
     ]
    }
   ],
   "source": [
    "print(products_table)"
   ]
  },
  {
   "cell_type": "code",
   "execution_count": 127,
   "id": "eae47009-d44b-4c0c-b2a3-b8467e78201d",
   "metadata": {},
   "outputs": [],
   "source": [
    "products_table.to_csv('products_table.csv', index=False, encoding='utf-8')"
   ]
  },
  {
   "cell_type": "code",
   "execution_count": 58,
   "id": "ee8b8eb4-3211-4e02-a80f-ec666ab8f407",
   "metadata": {},
   "outputs": [
    {
     "name": "stdout",
     "output_type": "stream",
     "text": [
      "0\n"
     ]
    }
   ],
   "source": [
    "print(products_table['report_number'].isna().sum())"
   ]
  },
  {
   "cell_type": "code",
   "execution_count": 59,
   "id": "07dbff2a-7258-4a88-b66b-c663b13b5ded",
   "metadata": {},
   "outputs": [
    {
     "name": "stdout",
     "output_type": "stream",
     "text": [
      "          report_number                                           outcomes  \\\n",
      "0                176698  [Hospitalization, Other Serious or Important M...   \n",
      "1                177899                                    [Other Outcome]   \n",
      "2                178670  [Other Serious or Important Medical Event, Vis...   \n",
      "3                178913                                    [Other Outcome]   \n",
      "4                179561  [Other Serious or Important Medical Event, Vis...   \n",
      "...                 ...                                                ...   \n",
      "140560  2023-CFS-008068  [Death, Other Serious or Important Medical Event]   \n",
      "140561  2023-CFS-008297  [Other Serious or Important Medical Event, Oth...   \n",
      "140562  2023-CFS-008783         [Other Serious or Important Medical Event]   \n",
      "140563  2023-CFS-007705  [Death, Other Serious or Important Medical Event]   \n",
      "140564  2023-CFS-008959         [Other Serious or Important Medical Event]   \n",
      "\n",
      "                                                reactions consumer_age  \\\n",
      "0       [ABDOMINAL PAIN UPPER, HAEMATEMESIS, STOMACH D...           65   \n",
      "1                       [ABDOMINAL PAIN UPPER, DIARRHOEA]           37   \n",
      "2       [HYPERSENSITIVITY, OROPHARYNGEAL DISCOMFORT, R...           30   \n",
      "3              [INTERNATIONAL NORMALISED RATIO DECREASED]           52   \n",
      "4                  [PROSTATIC SPECIFIC ANTIGEN INCREASED]           61   \n",
      "...                                                   ...          ...   \n",
      "140560                            [Death, Ovarian cancer]           66   \n",
      "140561                                  [Rash, Urticaria]           71   \n",
      "140562  [Exposure to chemical pollution, Mesothelioma ...          NaN   \n",
      "140563  [Death, Exposure to chemical pollution, Mesoth...           83   \n",
      "140564   [Exposure to chemical pollution, Ovarian cancer]          NaN   \n",
      "\n",
      "       consumer_age_unit consumer_gender date_created date_started  \n",
      "0                year(s)          Female   2014-05-20   2014-04-19  \n",
      "1                year(s)            Male   2014-07-11   2014-07-09  \n",
      "2                year(s)          Female   2014-08-14          NaT  \n",
      "3                year(s)            Male   2014-08-29   2014-08-26  \n",
      "4                year(s)            Male   2014-09-25          NaT  \n",
      "...                  ...             ...          ...          ...  \n",
      "140560           year(s)          Female   2023-06-16   2016-06-01  \n",
      "140561           year(s)            Male   2023-08-08          NaT  \n",
      "140562               NaN          Female   2023-08-08   2022-07-20  \n",
      "140563           year(s)          Female   2023-05-27   2017-08-01  \n",
      "140564               NaN          Female   2023-08-18   2019-08-01  \n",
      "\n",
      "[140565 rows x 8 columns]\n"
     ]
    }
   ],
   "source": [
    "df.drop('products', axis=1, inplace=True)\n",
    "print(df)"
   ]
  },
  {
   "cell_type": "code",
   "execution_count": 60,
   "id": "89758aa9-839f-45ce-abec-765325e0361c",
   "metadata": {},
   "outputs": [],
   "source": [
    "import numpy as np\n",
    "\n",
    "#convert to numeric\n",
    "df['consumer_age'] = pd.to_numeric(df['consumer_age'], errors='coerce')\n",
    "\n",
    "#apply floor to round down\n",
    "df['consumer_age'] = np.floor(df['consumer_age'])\n",
    "\n",
    "df['consumer_age'] = df['consumer_age'].astype('Int64')"
   ]
  },
  {
   "cell_type": "code",
   "execution_count": 61,
   "id": "e45555bb-8778-4b14-b724-dcc98762b830",
   "metadata": {},
   "outputs": [],
   "source": [
    "#remove brackets and quotes from outcomes and reactions\n",
    "df['outcomes'] = df['outcomes'].astype(str).str.replace('[', '', regex=False)\n",
    "df['outcomes'] = df['outcomes'].astype(str).str.replace(']', '', regex=False)\n",
    "df['outcomes'] = df['outcomes'].astype(str).str.replace(\"'\", \"\", regex=False)\n",
    "df['reactions'] = df['reactions'].astype(str).str.replace(']', '', regex=False)\n",
    "df['reactions'] = df['reactions'].astype(str).str.replace(\"'\", \"\", regex=False)\n",
    "df['reactions'] = df['reactions'].astype(str).str.replace('[', \"\", regex=False)\n",
    "df['reactions'] = df['reactions'].astype(str).str.lower()"
   ]
  },
  {
   "cell_type": "code",
   "execution_count": 62,
   "id": "945d94df-73d9-4595-875a-70d34b67a2e8",
   "metadata": {},
   "outputs": [],
   "source": [
    "df.to_csv('food_event_clean.csv', index=False)"
   ]
  },
  {
   "cell_type": "code",
   "execution_count": 63,
   "id": "33f6a6d5-f264-4e47-8256-f17551308dc7",
   "metadata": {},
   "outputs": [
    {
     "name": "stdout",
     "output_type": "stream",
     "text": [
      "          report_number                                           outcomes  \\\n",
      "0                176698  Hospitalization, Other Serious or Important Me...   \n",
      "1                177899                                      Other Outcome   \n",
      "2                178670  Other Serious or Important Medical Event, Visi...   \n",
      "3                178913                                      Other Outcome   \n",
      "4                179561  Other Serious or Important Medical Event, Visi...   \n",
      "...                 ...                                                ...   \n",
      "140560  2023-CFS-008068    Death, Other Serious or Important Medical Event   \n",
      "140561  2023-CFS-008297  Other Serious or Important Medical Event, Othe...   \n",
      "140562  2023-CFS-008783           Other Serious or Important Medical Event   \n",
      "140563  2023-CFS-007705    Death, Other Serious or Important Medical Event   \n",
      "140564  2023-CFS-008959           Other Serious or Important Medical Event   \n",
      "\n",
      "                                                reactions  consumer_age  \\\n",
      "0       abdominal pain upper, haematemesis, stomach di...            65   \n",
      "1                         abdominal pain upper, diarrhoea            37   \n",
      "2       hypersensitivity, oropharyngeal discomfort, ra...            30   \n",
      "3                international normalised ratio decreased            52   \n",
      "4                    prostatic specific antigen increased            61   \n",
      "...                                                   ...           ...   \n",
      "140560                              death, ovarian cancer            66   \n",
      "140561                                    rash, urticaria            71   \n",
      "140562  exposure to chemical pollution, mesothelioma m...          <NA>   \n",
      "140563  death, exposure to chemical pollution, mesothe...            83   \n",
      "140564     exposure to chemical pollution, ovarian cancer          <NA>   \n",
      "\n",
      "       consumer_age_unit consumer_gender date_created date_started  \n",
      "0                year(s)          Female   2014-05-20   2014-04-19  \n",
      "1                year(s)            Male   2014-07-11   2014-07-09  \n",
      "2                year(s)          Female   2014-08-14          NaT  \n",
      "3                year(s)            Male   2014-08-29   2014-08-26  \n",
      "4                year(s)            Male   2014-09-25          NaT  \n",
      "...                  ...             ...          ...          ...  \n",
      "140560           year(s)          Female   2023-06-16   2016-06-01  \n",
      "140561           year(s)            Male   2023-08-08          NaT  \n",
      "140562               NaN          Female   2023-08-08   2022-07-20  \n",
      "140563           year(s)          Female   2023-05-27   2017-08-01  \n",
      "140564               NaN          Female   2023-08-18   2019-08-01  \n",
      "\n",
      "[140565 rows x 8 columns]\n"
     ]
    }
   ],
   "source": [
    "print(df)"
   ]
  },
  {
   "cell_type": "code",
   "execution_count": 64,
   "id": "4ae34ae6-8b92-4b47-8ba0-da629388a9b8",
   "metadata": {},
   "outputs": [],
   "source": [
    "##Convertion of all age to integer years, rounding down, based on the unit\n",
    "\n",
    "#calculation logic\n",
    "unit_to_year = {\n",
    "    'year(s)': 1,\n",
    "    'month(s)': 1/12,\n",
    "    'week(s)': 1/52,\n",
    "    'day(s)': 1/365,\n",
    "    'decade(s)': 10\n",
    "}\n",
    "\n",
    "#convertion fonction\n",
    "def convert_to_year(row):\n",
    "    age = row['consumer_age']\n",
    "    unit = row['consumer_age_unit']\n",
    "    factor = unit_to_year.get(unit, np.nan)\n",
    "    if pd.notnull(age) and pd.notnull(factor):\n",
    "        return np.floor(age * factor)\n",
    "    return np.nan\n",
    "\n",
    "df['age_in_years'] = df.apply(convert_to_year, axis=1)"
   ]
  },
  {
   "cell_type": "code",
   "execution_count": 68,
   "id": "af49392f-dc96-4dcd-85a1-2e55ff808a33",
   "metadata": {},
   "outputs": [
    {
     "name": "stdout",
     "output_type": "stream",
     "text": [
      "          report_number                                           outcomes  \\\n",
      "0                176698  Hospitalization, Other Serious or Important Me...   \n",
      "1                177899                                      Other Outcome   \n",
      "2                178670  Other Serious or Important Medical Event, Visi...   \n",
      "3                178913                                      Other Outcome   \n",
      "4                179561  Other Serious or Important Medical Event, Visi...   \n",
      "...                 ...                                                ...   \n",
      "140560  2023-CFS-008068    Death, Other Serious or Important Medical Event   \n",
      "140561  2023-CFS-008297  Other Serious or Important Medical Event, Othe...   \n",
      "140562  2023-CFS-008783           Other Serious or Important Medical Event   \n",
      "140563  2023-CFS-007705    Death, Other Serious or Important Medical Event   \n",
      "140564  2023-CFS-008959           Other Serious or Important Medical Event   \n",
      "\n",
      "                                                reactions  consumer_age  \\\n",
      "0       abdominal pain upper, haematemesis, stomach di...            65   \n",
      "1                         abdominal pain upper, diarrhoea            37   \n",
      "2       hypersensitivity, oropharyngeal discomfort, ra...            30   \n",
      "3                international normalised ratio decreased            52   \n",
      "4                    prostatic specific antigen increased            61   \n",
      "...                                                   ...           ...   \n",
      "140560                              death, ovarian cancer            66   \n",
      "140561                                    rash, urticaria            71   \n",
      "140562  exposure to chemical pollution, mesothelioma m...          <NA>   \n",
      "140563  death, exposure to chemical pollution, mesothe...            83   \n",
      "140564     exposure to chemical pollution, ovarian cancer          <NA>   \n",
      "\n",
      "       consumer_age_unit consumer_gender date_created date_started  \\\n",
      "0                year(s)          Female   2014-05-20   2014-04-19   \n",
      "1                year(s)            Male   2014-07-11   2014-07-09   \n",
      "2                year(s)          Female   2014-08-14          NaT   \n",
      "3                year(s)            Male   2014-08-29   2014-08-26   \n",
      "4                year(s)            Male   2014-09-25          NaT   \n",
      "...                  ...             ...          ...          ...   \n",
      "140560           year(s)          Female   2023-06-16   2016-06-01   \n",
      "140561           year(s)            Male   2023-08-08          NaT   \n",
      "140562               NaN          Female   2023-08-08   2022-07-20   \n",
      "140563           year(s)          Female   2023-05-27   2017-08-01   \n",
      "140564               NaN          Female   2023-08-18   2019-08-01   \n",
      "\n",
      "        age_in_years  \n",
      "0                 65  \n",
      "1                 37  \n",
      "2                 30  \n",
      "3                 52  \n",
      "4                 61  \n",
      "...              ...  \n",
      "140560            66  \n",
      "140561            71  \n",
      "140562          <NA>  \n",
      "140563            83  \n",
      "140564          <NA>  \n",
      "\n",
      "[140565 rows x 9 columns]\n"
     ]
    }
   ],
   "source": [
    "df['age_in_years'] = df['age_in_years'].astype('Int64')\n",
    "print(df)"
   ]
  },
  {
   "cell_type": "code",
   "execution_count": 70,
   "id": "d383431d-843d-424f-8232-55a8d96d8b04",
   "metadata": {},
   "outputs": [],
   "source": [
    "df.to_csv('food_event_clean.csv', index=False)"
   ]
  },
  {
   "cell_type": "code",
   "execution_count": null,
   "id": "7cf37007-d371-4afa-b150-34b405b7e7df",
   "metadata": {},
   "outputs": [],
   "source": []
  }
 ],
 "metadata": {
  "kernelspec": {
   "display_name": "Python [conda env:base] *",
   "language": "python",
   "name": "conda-base-py"
  },
  "language_info": {
   "codemirror_mode": {
    "name": "ipython",
    "version": 3
   },
   "file_extension": ".py",
   "mimetype": "text/x-python",
   "name": "python",
   "nbconvert_exporter": "python",
   "pygments_lexer": "ipython3",
   "version": "3.12.7"
  }
 },
 "nbformat": 4,
 "nbformat_minor": 5
}
