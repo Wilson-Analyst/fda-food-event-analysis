{
 "cells": [
  {
   "cell_type": "code",
   "execution_count": 162,
   "id": "6b174ab5-138e-454e-ab4b-403485ba9f19",
   "metadata": {},
   "outputs": [],
   "source": [
    "import pandas as pd\n",
    "\n",
    "df_event = pd.read_csv('event_clean.csv', encoding ='utf-8')\n",
    "df_product = pd.read_csv('products_clean.csv', encoding='utf-8')\n",
    "\n",
    "#print(df_event)"
   ]
  },
  {
   "cell_type": "markdown",
   "id": "81039de5-bac6-4b2d-b3b5-8300fa409e37",
   "metadata": {},
   "source": [
    "Analyzing of multiple outcomes"
   ]
  },
  {
   "cell_type": "markdown",
   "id": "35b66cee-8d87-4cd0-b1d3-fecd83122651",
   "metadata": {},
   "source": [
    "#define the outcomes column as list\n",
    "df_event['outcomes'] = df_event['outcomes'].apply(\n",
    "    lambda x: [s.strip().lower().replace(\".\", \"\") for s in x.split(',')] if isinstance(x, str) else x\n",
    ")"
   ]
  },
  {
   "cell_type": "code",
   "execution_count": 163,
   "id": "2fe6ef51-7d69-41b8-a783-43130d15e46b",
   "metadata": {},
   "outputs": [],
   "source": [
    "#define the outcomes column as list\n",
    "df_event['outcomes'] = df_event['outcomes'].apply(\n",
    "    lambda x: [s.strip().lower().replace(\".\", \"\") for s in x.split(',')] if isinstance(x, str) else x\n",
    ")"
   ]
  },
  {
   "cell_type": "markdown",
   "id": "3472f385-7698-4c25-9488-253148adcfa9",
   "metadata": {},
   "source": [
    "#Possible Outcomes defining\n",
    "all_outcomes = [\n",
    "    'death',\n",
    "    'disability',\n",
    "    'hospitalization',\n",
    "    'other outcome',\n",
    "    'visited a health care provider',\n",
    "    'other serious or important medical event',\n",
    "    'visited emergency room',\n",
    "    'allergic reaction',\n",
    "    'other serious outcome',\n",
    "    'congenital anomaly',\n",
    "    'required intervention',\n",
    "    'life threatening'\n",
    "]\n",
    "\n",
    "#Create binary indicator columns\n",
    "for outcome in all_outcomes:\n",
    "    col_outcome = outcome.replace(\" \", \"_\").lower()\n",
    "    df_event[col_outcome] = df_event['outcomes'].apply(lambda x: int(outcome in x if isinstance(x, list) else False))\n"
   ]
  },
  {
   "cell_type": "markdown",
   "id": "a21574ea-a055-4283-85ee-37c9c8244eed",
   "metadata": {},
   "source": [
    "#count the total occurences of each outcome\n",
    "outcome_cols = [o.replace(\" \", \"_\").lower() for o in all_outcomes]\n",
    "print(df_event[outcome_cols].sum().sort_values(ascending=False))"
   ]
  },
  {
   "cell_type": "markdown",
   "id": "87cfe739-085a-4f99-82d0-67aa2df99f0a",
   "metadata": {},
   "source": [
    "import seaborn as sns\n",
    "import matplotlib.pyplot as plt\n",
    "\n",
    "plt.figure(figsize=(10, 8))\n",
    "sns.heatmap(df_event[outcome_cols].corr(), annot=True, cmap=\"coolwarm\")\n",
    "plt.show()"
   ]
  },
  {
   "cell_type": "markdown",
   "id": "7a54ae24-8d7f-48c7-9ba6-664e47f82eb3",
   "metadata": {},
   "source": [
    "#define group dictionaries\n",
    "critical_outcomes = {\n",
    "    \"death\", \"life threatening\"\n",
    "}\n",
    "severe_outcomes = {\n",
    "    \"hospitalization\", \"required intervention\", \"disability\", \"congenital anomaly\"\n",
    "}\n",
    "other_outcomes = {\n",
    "    \"visited emergency room\", \"allergic reaction\", \"other outcome\", \n",
    "    \"other serious or important medical event\",\n",
    "    \"other serious outcome\", \"other serious or important medical event\"\n",
    "}\n",
    "\n",
    "#define the function that keeps single outcome/assign group\n",
    "def group_outcome(row):\n",
    "    if not isinstance(row, list):\n",
    "        return np.nan\n",
    "\n",
    "    #clean outcomes\n",
    "    cleaned_outcomes = [o.strip().lower() for o in row if isinstance(o, str)]\n",
    "\n",
    "    #keep a record unchanged if it has only one outcome\n",
    "    if len(row) == 1:\n",
    "        return row[0].strip().lower().replace(\" \", \"_\")\n",
    "\n",
    "    #multiple outcomes -> group them\n",
    "    groups = set()\n",
    "    for o in cleaned_outcomes:\n",
    "        if o in critical_outcomes:\n",
    "            groups.add(\"critical\")\n",
    "        if o in severe_outcomes:\n",
    "            groups.add(\"severe\")\n",
    "        if o in other_outcomes:\n",
    "            groups.add(\"other\")\n",
    "    return list(groups)\n",
    "\n",
    "df_event[\"grouped_outcomes\"] = df_event[\"outcomes\"].apply(group_outcome)"
   ]
  },
  {
   "cell_type": "code",
   "execution_count": 164,
   "id": "9086e7c4-4f0e-4d53-a093-40dd3de3a283",
   "metadata": {},
   "outputs": [],
   "source": [
    "#import numpy as np\n",
    "\n",
    "#define group dictionaries\n",
    "death1 = {\"death\"}\n",
    "\n",
    "#define the function that keeps single outcome/assign group\n",
    "def group_outcome(row):\n",
    "    if not isinstance(row, list):\n",
    "        return np.nan\n",
    "\n",
    "    #clean outcomes\n",
    "    cleaned_outcomes = [o.strip().lower() for o in row if isinstance(o, str)]\n",
    "\n",
    "    #keep a record unchanged if it has only one outcome\n",
    "    if len(row) == 1:\n",
    "        return row[0].strip().lower().replace(\" \", \"_\")\n",
    "\n",
    "    #multiple outcomes -> group them\n",
    "    groups = set()\n",
    "    for o in cleaned_outcomes:\n",
    "        if o in death1:\n",
    "            groups.add(\"death_1\")\n",
    "        if not groups:\n",
    "            return [o.replace(\" \", \"_\") for o in cleaned_outcomes]\n",
    "    return list(groups)\n",
    "\n",
    "df_event[\"new_outcomes\"] = df_event[\"outcomes\"].apply(group_outcome)"
   ]
  },
  {
   "cell_type": "markdown",
   "id": "abdd5259-426a-41fc-b16c-5e444e6e9d62",
   "metadata": {
    "scrolled": true
   },
   "source": [
    "print(df_event)"
   ]
  },
  {
   "cell_type": "markdown",
   "id": "6ef55fb8-95e9-4c64-a707-0e9e4766fee8",
   "metadata": {},
   "source": [
    "#I decided to change some value in the new grouped_outcomes\n",
    "df_event['grouped_outcomes'] = df_event['grouped_outcomes'].replace({\n",
    "    'other_serious_or_important_medical_event': 'other_serious_event',\n",
    "    'other_serious_outcome': 'other_serious_event',\n",
    "    'visited_emergency_room': 'emergency_room',\n",
    "    'visited_a_health_care_provider': 'health_care_provider'\n",
    "})"
   ]
  },
  {
   "cell_type": "code",
   "execution_count": 72,
   "id": "b16c062e-8a25-4e93-a724-72952a77657c",
   "metadata": {},
   "outputs": [],
   "source": [
    "df_event.to_csv('001.csv', index=False, encoding='utf-8')"
   ]
  },
  {
   "cell_type": "markdown",
   "id": "2d4fe8f7-b001-4b30-bdde-bcd372307a7a",
   "metadata": {},
   "source": [
    "from collections import Counter\n",
    "\n",
    "#flatten and count all reactions\n",
    "all_reactions = df_event['reactions'].dropna().explode().str.lower().str.strip()\n",
    "reaction_counts = Counter(all_reactions)"
   ]
  },
  {
   "cell_type": "code",
   "execution_count": 165,
   "id": "5d30bfc8-09e9-4d3d-a391-f6416a7e0f10",
   "metadata": {},
   "outputs": [
    {
     "name": "stdout",
     "output_type": "stream",
     "text": [
      "          report_number                                           outcomes  \\\n",
      "0                176698  [hospitalization, other serious or important m...   \n",
      "1                177899                                    [other outcome]   \n",
      "2                178670  [other serious or important medical event, vis...   \n",
      "3                178913                                    [other outcome]   \n",
      "4                179561  [other serious or important medical event, vis...   \n",
      "...                 ...                                                ...   \n",
      "140560  2023-CFS-008068  [death, other serious or important medical event]   \n",
      "140561  2023-CFS-008297  [other serious or important medical event, oth...   \n",
      "140562  2023-CFS-008783         [other serious or important medical event]   \n",
      "140563  2023-CFS-007705  [death, other serious or important medical event]   \n",
      "140564  2023-CFS-008959         [other serious or important medical event]   \n",
      "\n",
      "                                                reactions consumer_gender  \\\n",
      "0       abdominal pain upper, haematemesis, stomach di...          Female   \n",
      "1                         abdominal pain upper, diarrhoea            Male   \n",
      "2       hypersensitivity, oropharyngeal discomfort, ra...          Female   \n",
      "3                international normalised ratio decreased            Male   \n",
      "4                    prostatic specific antigen increased            Male   \n",
      "...                                                   ...             ...   \n",
      "140560                              death, ovarian cancer          Female   \n",
      "140561                                    rash, urticaria            Male   \n",
      "140562  exposure to chemical pollution, mesothelioma m...          Female   \n",
      "140563  death, exposure to chemical pollution, mesothe...          Female   \n",
      "140564     exposure to chemical pollution, ovarian cancer          Female   \n",
      "\n",
      "       date_created date_started  age_in_years  \\\n",
      "0        2014-05-20   2014-04-19          65.0   \n",
      "1        2014-07-11   2014-07-09          37.0   \n",
      "2        2014-08-14          NaN          30.0   \n",
      "3        2014-08-29   2014-08-26          52.0   \n",
      "4        2014-09-25          NaN          61.0   \n",
      "...             ...          ...           ...   \n",
      "140560   2023-06-16   2016-06-01          66.0   \n",
      "140561   2023-08-08          NaN          71.0   \n",
      "140562   2023-08-08   2022-07-20           NaN   \n",
      "140563   2023-05-27   2017-08-01          83.0   \n",
      "140564   2023-08-18   2019-08-01           NaN   \n",
      "\n",
      "                                             new_outcomes  \n",
      "0       [hospitalization, other_serious_or_important_m...  \n",
      "1                                           other_outcome  \n",
      "2       [other_serious_or_important_medical_event, vis...  \n",
      "3                                           other_outcome  \n",
      "4       [other_serious_or_important_medical_event, vis...  \n",
      "...                                                   ...  \n",
      "140560                                          [death_1]  \n",
      "140561  [other_serious_or_important_medical_event, oth...  \n",
      "140562           other_serious_or_important_medical_event  \n",
      "140563                                          [death_1]  \n",
      "140564           other_serious_or_important_medical_event  \n",
      "\n",
      "[140565 rows x 8 columns]\n"
     ]
    }
   ],
   "source": [
    "print(df_event)"
   ]
  },
  {
   "cell_type": "code",
   "execution_count": 166,
   "id": "c9e902d5-e40f-47f1-8613-347bdf694b58",
   "metadata": {},
   "outputs": [],
   "source": [
    "# Step 1: Normalize new_outcomes so every row is a list\n",
    "def ensure_list(x):\n",
    "    if isinstance(x, list):\n",
    "        return x\n",
    "    elif isinstance(x, str):\n",
    "        return [x.strip().lower().replace(\".\", \"\")]\n",
    "    return []\n",
    "\n",
    "df_event[\"normalized_outcomes\"] = df_event[\"new_outcomes\"].apply(ensure_list)"
   ]
  },
  {
   "cell_type": "code",
   "execution_count": 101,
   "id": "61bb5c5a-ed57-4c88-8ea4-88ecd1b5c3fe",
   "metadata": {},
   "outputs": [],
   "source": [
    "#import numpy as np\n",
    "\n",
    "#define group dictionaries\n",
    "live1 = {\"life threatening\"}\n",
    "\n",
    "#define the function that keeps single outcome/assign group\n",
    "def group_outcome(row):\n",
    "    if not isinstance(row, list):\n",
    "        return np.nan\n",
    "\n",
    "    #clean outcomes\n",
    "    cleaned_outcomes = [o.strip().lower() for o in row if isinstance(o, str)]\n",
    "\n",
    "    #keep a record unchanged if it has only one outcome\n",
    "    if len(row) == 1:\n",
    "        return row[0].strip().lower().replace(\" \", \"_\")\n",
    "\n",
    "    #multiple outcomes -> group them\n",
    "    groups = set()\n",
    "    for o in cleaned_outcomes:\n",
    "        if o in death1:\n",
    "            groups.add(\"life_threatening_1\")\n",
    "        if not groups:\n",
    "            return [o.replace(\" \", \"_\") for o in cleaned_outcomes]\n",
    "    return list(groups)\n",
    "\n",
    "df_event[\"new1_outcomes\"] = df_event[\"new_outcomes\"].apply(group_outcome)"
   ]
  },
  {
   "cell_type": "code",
   "execution_count": 167,
   "id": "506b180f-58c9-432a-80db-42ac04300ae5",
   "metadata": {},
   "outputs": [],
   "source": [
    "# Example: grouping life-threatening outcomes\n",
    "life1 = {\"life_threatening\"}\n",
    "\n",
    "def group_outcome_second_pass(row):\n",
    "    if not isinstance(row, list):\n",
    "        return np.nan\n",
    "\n",
    "    cleaned = [o.strip().lower().replace(\".\", \"\") for o in row]\n",
    "\n",
    "    if len(cleaned) == 1:\n",
    "        return cleaned[0].replace(\" \", \"_\")\n",
    "\n",
    "    groups = set()\n",
    "    for o in cleaned:\n",
    "        if o in life1:\n",
    "            groups.add(\"life_threatening_1\")\n",
    "    \n",
    "    return list(groups) if groups else [o.replace(\" \", \"_\") for o in cleaned]\n",
    "\n",
    "# Apply to normalized column\n",
    "df_event[\"new1_outcomes\"] = df_event[\"normalized_outcomes\"].apply(group_outcome_second_pass)\n"
   ]
  },
  {
   "cell_type": "code",
   "execution_count": 168,
   "id": "f70e6279-93a9-4640-b17d-ab8cb7ff9f18",
   "metadata": {
    "scrolled": true
   },
   "outputs": [
    {
     "name": "stdout",
     "output_type": "stream",
     "text": [
      "          report_number                                           outcomes  \\\n",
      "0                176698  [hospitalization, other serious or important m...   \n",
      "1                177899                                    [other outcome]   \n",
      "2                178670  [other serious or important medical event, vis...   \n",
      "3                178913                                    [other outcome]   \n",
      "4                179561  [other serious or important medical event, vis...   \n",
      "...                 ...                                                ...   \n",
      "140560  2023-CFS-008068  [death, other serious or important medical event]   \n",
      "140561  2023-CFS-008297  [other serious or important medical event, oth...   \n",
      "140562  2023-CFS-008783         [other serious or important medical event]   \n",
      "140563  2023-CFS-007705  [death, other serious or important medical event]   \n",
      "140564  2023-CFS-008959         [other serious or important medical event]   \n",
      "\n",
      "                                                reactions consumer_gender  \\\n",
      "0       abdominal pain upper, haematemesis, stomach di...          Female   \n",
      "1                         abdominal pain upper, diarrhoea            Male   \n",
      "2       hypersensitivity, oropharyngeal discomfort, ra...          Female   \n",
      "3                international normalised ratio decreased            Male   \n",
      "4                    prostatic specific antigen increased            Male   \n",
      "...                                                   ...             ...   \n",
      "140560                              death, ovarian cancer          Female   \n",
      "140561                                    rash, urticaria            Male   \n",
      "140562  exposure to chemical pollution, mesothelioma m...          Female   \n",
      "140563  death, exposure to chemical pollution, mesothe...          Female   \n",
      "140564     exposure to chemical pollution, ovarian cancer          Female   \n",
      "\n",
      "       date_created date_started  age_in_years  \\\n",
      "0        2014-05-20   2014-04-19          65.0   \n",
      "1        2014-07-11   2014-07-09          37.0   \n",
      "2        2014-08-14          NaN          30.0   \n",
      "3        2014-08-29   2014-08-26          52.0   \n",
      "4        2014-09-25          NaN          61.0   \n",
      "...             ...          ...           ...   \n",
      "140560   2023-06-16   2016-06-01          66.0   \n",
      "140561   2023-08-08          NaN          71.0   \n",
      "140562   2023-08-08   2022-07-20           NaN   \n",
      "140563   2023-05-27   2017-08-01          83.0   \n",
      "140564   2023-08-18   2019-08-01           NaN   \n",
      "\n",
      "                                             new_outcomes  \\\n",
      "0       [hospitalization, other_serious_or_important_m...   \n",
      "1                                           other_outcome   \n",
      "2       [other_serious_or_important_medical_event, vis...   \n",
      "3                                           other_outcome   \n",
      "4       [other_serious_or_important_medical_event, vis...   \n",
      "...                                                   ...   \n",
      "140560                                          [death_1]   \n",
      "140561  [other_serious_or_important_medical_event, oth...   \n",
      "140562           other_serious_or_important_medical_event   \n",
      "140563                                          [death_1]   \n",
      "140564           other_serious_or_important_medical_event   \n",
      "\n",
      "                                      normalized_outcomes  \\\n",
      "0       [hospitalization, other_serious_or_important_m...   \n",
      "1                                         [other_outcome]   \n",
      "2       [other_serious_or_important_medical_event, vis...   \n",
      "3                                         [other_outcome]   \n",
      "4       [other_serious_or_important_medical_event, vis...   \n",
      "...                                                   ...   \n",
      "140560                                          [death_1]   \n",
      "140561  [other_serious_or_important_medical_event, oth...   \n",
      "140562         [other_serious_or_important_medical_event]   \n",
      "140563                                          [death_1]   \n",
      "140564         [other_serious_or_important_medical_event]   \n",
      "\n",
      "                                            new1_outcomes  \n",
      "0       [hospitalization, other_serious_or_important_m...  \n",
      "1                                           other_outcome  \n",
      "2       [other_serious_or_important_medical_event, vis...  \n",
      "3                                           other_outcome  \n",
      "4       [other_serious_or_important_medical_event, vis...  \n",
      "...                                                   ...  \n",
      "140560                                            death_1  \n",
      "140561  [other_serious_or_important_medical_event, oth...  \n",
      "140562           other_serious_or_important_medical_event  \n",
      "140563                                            death_1  \n",
      "140564           other_serious_or_important_medical_event  \n",
      "\n",
      "[140565 rows x 10 columns]\n"
     ]
    }
   ],
   "source": [
    "print(df_event)"
   ]
  },
  {
   "cell_type": "code",
   "execution_count": 119,
   "id": "bbbf1fd8-1833-495e-8ba1-0c44e0bb2d67",
   "metadata": {},
   "outputs": [],
   "source": [
    "df_event.to_csv('002.csv', index=False, encoding='utf-8')"
   ]
  },
  {
   "cell_type": "code",
   "execution_count": 169,
   "id": "b01bb639-d96e-42a7-bfdc-7602ff53f713",
   "metadata": {},
   "outputs": [],
   "source": [
    "df_event.drop('normalized_outcomes', axis=1, inplace=True)\n",
    "df_event.drop('new_outcomes', axis=1, inplace=True)"
   ]
  },
  {
   "cell_type": "code",
   "execution_count": 170,
   "id": "10bbb5fb-bc65-411a-985b-871b5605324f",
   "metadata": {},
   "outputs": [],
   "source": [
    "# Step 1: Normalize new_outcomes so every row is a list\n",
    "def ensure_list(x):\n",
    "    if isinstance(x, list):\n",
    "        return x\n",
    "    elif isinstance(x, str):\n",
    "        return [x.strip().lower().replace(\".\", \"\")]\n",
    "    return []\n",
    "\n",
    "df_event[\"normalized_outcomes\"] = df_event[\"new1_outcomes\"].apply(ensure_list)"
   ]
  },
  {
   "cell_type": "code",
   "execution_count": 171,
   "id": "4cd4d429-fcd8-4b72-b096-70961ecdc6a1",
   "metadata": {},
   "outputs": [],
   "source": [
    "# Example: grouping life-threatening outcomes\n",
    "other1 = {\"other_serious_or_important_medical_event\", \"other_outcome\", \"other_serious_outcome\"}\n",
    "\n",
    "def group_outcome_second_pass(row):\n",
    "    if not isinstance(row, list):\n",
    "        return np.nan\n",
    "\n",
    "    cleaned = [o.strip().lower().replace(\".\", \"\") for o in row]\n",
    "\n",
    "    #if len(cleaned) == 1:\n",
    "        #return cleaned[0].replace(\" \", \"_\")\n",
    "\n",
    "    groups = set()\n",
    "    for o in cleaned:\n",
    "        if o in other1:\n",
    "            groups.add(\"other_outcome\")\n",
    "    \n",
    "    return list(groups) if groups else [o.replace(\" \", \"_\") for o in cleaned]\n",
    "\n",
    "# Apply to normalized column\n",
    "df_event[\"new2_outcomes\"] = df_event[\"normalized_outcomes\"].apply(group_outcome_second_pass)\n"
   ]
  },
  {
   "cell_type": "markdown",
   "id": "df4a30ed-e6e0-4889-91b8-87cfff60e9ff",
   "metadata": {},
   "source": [
    "print(df_event)"
   ]
  },
  {
   "cell_type": "code",
   "execution_count": 128,
   "id": "5dec3c5f-a50a-4e2b-87e6-fd4754e04a82",
   "metadata": {},
   "outputs": [],
   "source": [
    "df_event.to_csv('003.csv', index=False, encoding='utf-8')"
   ]
  },
  {
   "cell_type": "markdown",
   "id": "63a9207d-c342-4fe0-8f5b-76d64624f1a7",
   "metadata": {},
   "source": [
    "import pandas as pd\n",
    "\n",
    "df_error = pd.read_csv('004.csv', encoding ='utf-8')"
   ]
  },
  {
   "cell_type": "code",
   "execution_count": 174,
   "id": "d463d070-5451-4109-b03c-8d4ead637afc",
   "metadata": {},
   "outputs": [],
   "source": [
    "df_event.drop('normalized_outcomes', axis=1, inplace=True)\n",
    "df_event.drop('new1_outcomes', axis=1, inplace=True)"
   ]
  },
  {
   "cell_type": "code",
   "execution_count": 182,
   "id": "456be006-b9a2-4d65-99bc-209c58570931",
   "metadata": {},
   "outputs": [],
   "source": [
    "# Step 1: Normalize new_outcomes so every row is a list\n",
    "def ensure_list(x):\n",
    "    if isinstance(x, list):\n",
    "        return x\n",
    "    elif isinstance(x, str):\n",
    "        return [x.strip().lower().replace(\".\", \"\")]\n",
    "    return []\n",
    "\n",
    "df_event[\"normalized_outcomes\"] = df_event[\"new4_outcomes\"].apply(ensure_list)"
   ]
  },
  {
   "cell_type": "code",
   "execution_count": 183,
   "id": "c06ce32b-457f-44c1-b0be-d88fb44130cd",
   "metadata": {},
   "outputs": [],
   "source": [
    "# Example: grouping life-threatening outcomes\n",
    "#other1 = {\"hospitalization\", \"required_intervention\"}\n",
    "other1 = {\"visited_emergency_room\", \"visited_a_health_care_provider\",\n",
    "          \"injury\", \"disability\", \"allergic_reaction\"}\n",
    "#other1 = {\"congenital_anomaly\"}\n",
    "\n",
    "def group_outcome_second_pass(row):\n",
    "    if not isinstance(row, list):\n",
    "        return np.nan\n",
    "\n",
    "    cleaned = [o.strip().lower().replace(\".\", \"\") for o in row]\n",
    "\n",
    "    #if len(cleaned) == 1:\n",
    "        #return cleaned[0].replace(\" \", \"_\")\n",
    "\n",
    "    groups = set()\n",
    "    for o in cleaned:\n",
    "        if o in other1:\n",
    "            #groups.add(\"hospitalization\")\n",
    "            #groups.add(\"congenital_anomaly\")\n",
    "            groups.add(\"minor_outcome\")\n",
    "    \n",
    "    return list(groups) if groups else [o.replace(\" \", \"_\") for o in cleaned]\n",
    "\n",
    "# Apply to normalized column\n",
    "df_event[\"new5_outcomes\"] = df_event[\"new4_outcomes\"].apply(group_outcome_second_pass)\n"
   ]
  },
  {
   "cell_type": "code",
   "execution_count": 186,
   "id": "af0a9100-c5cd-45ea-8dc2-f2b10b6ec009",
   "metadata": {},
   "outputs": [],
   "source": [
    "df_event.to_csv('error1.csv', index=False, encoding='utf-8')"
   ]
  },
  {
   "cell_type": "code",
   "execution_count": 185,
   "id": "ea5a2f18-a98a-4739-a8b9-7b30154d9980",
   "metadata": {},
   "outputs": [],
   "source": [
    "df_event.drop('normalized_outcomes', axis=1, inplace=True)\n",
    "#df_event.drop('new4_outcomes', axis=1, inplace=True)"
   ]
  },
  {
   "cell_type": "code",
   "execution_count": null,
   "id": "56202866-620e-4bf0-8b3f-5d32f2547b83",
   "metadata": {},
   "outputs": [],
   "source": []
  },
  {
   "cell_type": "code",
   "execution_count": 191,
   "id": "e11f074d-c08d-4363-9c3c-e94cc1235aca",
   "metadata": {},
   "outputs": [
    {
     "name": "stderr",
     "output_type": "stream",
     "text": [
      "C:\\Users\\JPS\\AppData\\Local\\Temp\\ipykernel_18024\\3624835217.py:15: FutureWarning: \n",
      "\n",
      "Passing `palette` without assigning `hue` is deprecated and will be removed in v0.14.0. Assign the `y` variable to `hue` and set `legend=False` for the same effect.\n",
      "\n",
      "  sns.barplot(data=top_15, y='reaction', x='count', palette='mako')\n"
     ]
    },
    {
     "data": {
      "image/png": "[encoded data removed]",
      "text/plain": [
       "<Figure size 640x480 with 1 Axes>"
      ]
     },
     "metadata": {},
     "output_type": "display_data"
    }
   ],
   "source": [
    "from collections import Counter\n",
    "\n",
    "#flatten all reactions into one list\n",
    "reaction_counter = Counter()\n",
    "\n",
    "for reactions in df_event['reactions'].dropna():\n",
    "    reaction_counter.update(reactions)\n",
    "\n",
    "reaction_freq = pd.DataFrame(reaction_counter.items(), columns=['reaction', 'count']).sort_values(by='count', ascending=False)\n",
    "\n",
    "import seaborn as sns\n",
    "import matplotlib.pyplot as plt\n",
    "\n",
    "top_15 = reaction_freq.head(15)\n",
    "sns.barplot(data=top_15, y='reaction', x='count', palette='mako')\n",
    "plt.title('Top 15 reported Reactions')\n",
    "plt.xlabel('Number of Reports')\n",
    "plt.ylabel('Reaction')\n",
    "plt.tight_layout()\n",
    "plt.show()"
   ]
  }
 ],
 "metadata": {
  "kernelspec": {
   "display_name": "Python [conda env:base] *",
   "language": "python",
   "name": "conda-base-py"
  },
  "language_info": {
   "codemirror_mode": {
    "name": "ipython",
    "version": 3
   },
   "file_extension": ".py",
   "mimetype": "text/x-python",
   "name": "python",
   "nbconvert_exporter": "python",
   "pygments_lexer": "ipython3",
   "version": "3.12.7"
  }
 },
 "nbformat": 4,
 "nbformat_minor": 5
}
